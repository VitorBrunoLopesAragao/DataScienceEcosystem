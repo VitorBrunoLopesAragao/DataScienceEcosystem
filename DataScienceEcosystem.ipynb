{
  "metadata": {
    "kernelspec": {
      "name": "python",
      "display_name": "Python (Pyodide)",
      "language": "python"
    },
    "language_info": {
      "codemirror_mode": {
        "name": "python",
        "version": 3
      },
      "file_extension": ".py",
      "mimetype": "text/x-python",
      "name": "python",
      "nbconvert_exporter": "python",
      "pygments_lexer": "ipython3",
      "version": "3.8"
    }
  },
  "nbformat_minor": 5,
  "nbformat": 4,
  "cells": [
    {
      "id": "7431af00-5c04-4789-97f2-9ffd16e0c1ee",
      "cell_type": "markdown",
      "source": "<h1>Data Science Tools and Ecosystem</h1>",
      "metadata": {}
    },
    {
      "id": "318d8226-a96d-474d-80b1-a301d09c9a4d",
      "cell_type": "markdown",
      "source": "In this notebook, Data Science Tools and Ecosystem are summarized.",
      "metadata": {}
    },
    {
      "id": "02c7df30-b72f-436e-9bdd-b895de4c772a",
      "cell_type": "markdown",
      "source": "**Objectives:**\n* list the tasks that a data scientist needs to perform\n* List the benefits of using Python\n* Define a Jupyter Notebook\n* Describe how to use the notebooks in Jupyter\n* Git and GitHub overview",
      "metadata": {}
    },
    {
      "id": "44593945-cf9f-4b85-8bee-5a6ebc5aef28",
      "cell_type": "markdown",
      "source": "**Some of the popular languages that Data Scientists use are:**\n* Python\n* R\n* Scala",
      "metadata": {}
    },
    {
      "id": "97b62c40-6ff4-4dbb-bff4-0434fd6009a6",
      "cell_type": "markdown",
      "source": "**Some of the commonly used libraries used by Data Scientists include:**\n* NumPy\n* Pandas\n* Scikit Learn\n* Seaborn",
      "metadata": {}
    },
    {
      "id": "2fd26042-f26c-4585-8a1d-c1c893d2b628",
      "cell_type": "markdown",
      "source": "|Data Science Tools|\n|:--|\n|Python|\n|Sql|\n|Oracle Analytics Cloud|\n|Git|",
      "metadata": {}
    },
    {
      "id": "aa9a1755-7722-4156-b118-27a51e55650f",
      "cell_type": "markdown",
      "source": "<h3>Below are a few examples of evaluating arithmetic expressions in Python</h3>",
      "metadata": {}
    },
    {
      "id": "a1829619-6806-4759-a7db-4c4efad56c90",
      "cell_type": "code",
      "source": "# This a simple arithmetic expression to mutiply then add integers\n(3*4)+5",
      "metadata": {
        "trusted": true
      },
      "outputs": [
        {
          "execution_count": 9,
          "output_type": "execute_result",
          "data": {
            "text/plain": "17"
          },
          "metadata": {}
        }
      ],
      "execution_count": 9
    },
    {
      "id": "34054f27-8ece-4396-b350-1c0ff1d83772",
      "cell_type": "code",
      "source": "# This will convert 200 minutes to hours by diving by 60\nprint(round(200/60,2), 'Horas')",
      "metadata": {
        "trusted": true
      },
      "outputs": [
        {
          "name": "stdout",
          "text": "3.33 Horas\n",
          "output_type": "stream"
        }
      ],
      "execution_count": 15
    },
    {
      "id": "83b1b41c-a853-4bc7-97ba-03c8bc9ab1f6",
      "cell_type": "markdown",
      "source": "<h2>Author</h2>\nVitor Bruno Lopes Aragão",
      "metadata": {}
    },
    {
      "id": "0682f2e4-350d-4a16-a3bc-9c1f362902f6",
      "cell_type": "code",
      "source": "",
      "metadata": {
        "trusted": true
      },
      "outputs": [],
      "execution_count": null
    }
  ]
}